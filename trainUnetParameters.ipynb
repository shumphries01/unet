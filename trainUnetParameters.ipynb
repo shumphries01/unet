{
 "cells": [
  {
   "cell_type": "code",
   "execution_count": null,
   "metadata": {},
   "outputs": [],
   "source": [
    "from model import *\n",
    "from dilateModel import *\n",
    "from data import *\n",
    "from PIL import Image\n",
    "\n",
    "import pandas as pd"
   ]
  },
  {
   "cell_type": "code",
   "execution_count": null,
   "metadata": {},
   "outputs": [],
   "source": [
    "df=pd.read_excel('HyperParameter_Table.xlsx')\n",
    "\n",
    "def parameterSpread ():\n",
    "    for row in df.iterrows():\n",
    "        print(row['Rotation_Range'])\n",
    "        data_gen_args = dict(rotation_range=row['Rotation_Range'],\n",
    "                    width_shift_range=row['Width_Shift'],\n",
    "                    height_shift_range=row['Height_Shift'],\n",
    "                    shear_range=row['Shear_Range'],\n",
    "                    zoom_range=row['Zoom_Range'],\n",
    "                    horizontal_flip=row['Horizontal_Flip'],\n",
    "                    fill_mode='nearest')\n",
    "        myGene = trainGenerator(8,'/data/spacenet/bldg/AllTrain','PAN-PNG','GT-PNG',data_gen_args,save_to_dir = None)\n",
    "        model = unet()\n",
    "        model_checkpoint = ModelCheckpoint('unet_membrane_AllTrain_8.hdf5', monitor='loss',verbose=1, save_best_only=True)\n",
    "        model.fit_generator(myGene,steps_per_epoch=50,epochs=10,callbacks=[model_checkpoint])"
   ]
  }
 ],
 "metadata": {
  "kernelspec": {
   "display_name": "Python 3",
   "language": "python",
   "name": "python3"
  },
  "language_info": {
   "codemirror_mode": {
    "name": "ipython",
    "version": 3
   },
   "file_extension": ".py",
   "mimetype": "text/x-python",
   "name": "python",
   "nbconvert_exporter": "python",
   "pygments_lexer": "ipython3",
   "version": "3.7.3"
  }
 },
 "nbformat": 4,
 "nbformat_minor": 4
}
