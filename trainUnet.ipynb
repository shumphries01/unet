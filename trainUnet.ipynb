{
 "cells": [
  {
   "cell_type": "code",
   "execution_count": 1,
   "metadata": {},
   "outputs": [
    {
     "name": "stderr",
     "output_type": "stream",
     "text": [
      "Using TensorFlow backend.\n",
      "/srv/conda/envs/notebook/lib/python3.7/site-packages/tensorflow/python/framework/dtypes.py:516: FutureWarning: Passing (type, 1) or '1type' as a synonym of type is deprecated; in a future version of numpy, it will be understood as (type, (1,)) / '(1,)type'.\n",
      "  _np_qint8 = np.dtype([(\"qint8\", np.int8, 1)])\n",
      "/srv/conda/envs/notebook/lib/python3.7/site-packages/tensorflow/python/framework/dtypes.py:517: FutureWarning: Passing (type, 1) or '1type' as a synonym of type is deprecated; in a future version of numpy, it will be understood as (type, (1,)) / '(1,)type'.\n",
      "  _np_quint8 = np.dtype([(\"quint8\", np.uint8, 1)])\n",
      "/srv/conda/envs/notebook/lib/python3.7/site-packages/tensorflow/python/framework/dtypes.py:518: FutureWarning: Passing (type, 1) or '1type' as a synonym of type is deprecated; in a future version of numpy, it will be understood as (type, (1,)) / '(1,)type'.\n",
      "  _np_qint16 = np.dtype([(\"qint16\", np.int16, 1)])\n",
      "/srv/conda/envs/notebook/lib/python3.7/site-packages/tensorflow/python/framework/dtypes.py:519: FutureWarning: Passing (type, 1) or '1type' as a synonym of type is deprecated; in a future version of numpy, it will be understood as (type, (1,)) / '(1,)type'.\n",
      "  _np_quint16 = np.dtype([(\"quint16\", np.uint16, 1)])\n",
      "/srv/conda/envs/notebook/lib/python3.7/site-packages/tensorflow/python/framework/dtypes.py:520: FutureWarning: Passing (type, 1) or '1type' as a synonym of type is deprecated; in a future version of numpy, it will be understood as (type, (1,)) / '(1,)type'.\n",
      "  _np_qint32 = np.dtype([(\"qint32\", np.int32, 1)])\n",
      "/srv/conda/envs/notebook/lib/python3.7/site-packages/tensorflow/python/framework/dtypes.py:525: FutureWarning: Passing (type, 1) or '1type' as a synonym of type is deprecated; in a future version of numpy, it will be understood as (type, (1,)) / '(1,)type'.\n",
      "  np_resource = np.dtype([(\"resource\", np.ubyte, 1)])\n",
      "/srv/conda/envs/notebook/lib/python3.7/site-packages/tensorboard/compat/tensorflow_stub/dtypes.py:541: FutureWarning: Passing (type, 1) or '1type' as a synonym of type is deprecated; in a future version of numpy, it will be understood as (type, (1,)) / '(1,)type'.\n",
      "  _np_qint8 = np.dtype([(\"qint8\", np.int8, 1)])\n",
      "/srv/conda/envs/notebook/lib/python3.7/site-packages/tensorboard/compat/tensorflow_stub/dtypes.py:542: FutureWarning: Passing (type, 1) or '1type' as a synonym of type is deprecated; in a future version of numpy, it will be understood as (type, (1,)) / '(1,)type'.\n",
      "  _np_quint8 = np.dtype([(\"quint8\", np.uint8, 1)])\n",
      "/srv/conda/envs/notebook/lib/python3.7/site-packages/tensorboard/compat/tensorflow_stub/dtypes.py:543: FutureWarning: Passing (type, 1) or '1type' as a synonym of type is deprecated; in a future version of numpy, it will be understood as (type, (1,)) / '(1,)type'.\n",
      "  _np_qint16 = np.dtype([(\"qint16\", np.int16, 1)])\n",
      "/srv/conda/envs/notebook/lib/python3.7/site-packages/tensorboard/compat/tensorflow_stub/dtypes.py:544: FutureWarning: Passing (type, 1) or '1type' as a synonym of type is deprecated; in a future version of numpy, it will be understood as (type, (1,)) / '(1,)type'.\n",
      "  _np_quint16 = np.dtype([(\"quint16\", np.uint16, 1)])\n",
      "/srv/conda/envs/notebook/lib/python3.7/site-packages/tensorboard/compat/tensorflow_stub/dtypes.py:545: FutureWarning: Passing (type, 1) or '1type' as a synonym of type is deprecated; in a future version of numpy, it will be understood as (type, (1,)) / '(1,)type'.\n",
      "  _np_qint32 = np.dtype([(\"qint32\", np.int32, 1)])\n",
      "/srv/conda/envs/notebook/lib/python3.7/site-packages/tensorboard/compat/tensorflow_stub/dtypes.py:550: FutureWarning: Passing (type, 1) or '1type' as a synonym of type is deprecated; in a future version of numpy, it will be understood as (type, (1,)) / '(1,)type'.\n",
      "  np_resource = np.dtype([(\"resource\", np.ubyte, 1)])\n"
     ]
    }
   ],
   "source": [
    "from model import *\n",
    "from dilateModel import *\n",
    "#from model_edge import *\n",
    "from data import *\n",
    "from PIL import Image\n",
    "import cv2"
   ]
  },
  {
   "cell_type": "markdown",
   "metadata": {},
   "source": [
    "## Train your Unet with membrane data\n",
    "membrane data is in folder membrane/, it is a binary classification task.\n",
    "\n",
    "The input shape of image and mask are the same :(batch_size,rows,cols,channel = 1)"
   ]
  },
  {
   "cell_type": "markdown",
   "metadata": {},
   "source": [
    "### Train with data generator"
   ]
  },
  {
   "cell_type": "code",
   "execution_count": 2,
   "metadata": {},
   "outputs": [
    {
     "name": "stdout",
     "output_type": "stream",
     "text": [
      "WARNING:tensorflow:From /srv/conda/envs/notebook/lib/python3.7/site-packages/keras/backend/tensorflow_backend.py:4070: The name tf.nn.max_pool is deprecated. Please use tf.nn.max_pool2d instead.\n",
      "\n",
      "WARNING:tensorflow:From /srv/conda/envs/notebook/lib/python3.7/site-packages/tensorflow/python/ops/nn_impl.py:180: add_dispatch_support.<locals>.wrapper (from tensorflow.python.ops.array_ops) is deprecated and will be removed in a future version.\n",
      "Instructions for updating:\n",
      "Use tf.where in 2.0, which has the same broadcast rule as np.where\n"
     ]
    },
    {
     "name": "stderr",
     "output_type": "stream",
     "text": [
      "/home/dspuser/unet/model.py:55: UserWarning: Update your `Model` call to the Keras 2 API: `Model(inputs=Tensor(\"in..., outputs=Tensor(\"co...)`\n",
      "  model = Model(input = inputs, output = conv10)\n"
     ]
    },
    {
     "name": "stdout",
     "output_type": "stream",
     "text": [
      "WARNING:tensorflow:From /srv/conda/envs/notebook/lib/python3.7/site-packages/keras/backend/tensorflow_backend.py:422: The name tf.global_variables is deprecated. Please use tf.compat.v1.global_variables instead.\n",
      "\n",
      "Epoch 1/10\n",
      "Found 10586 images belonging to 1 classes.\n",
      "Found 10586 images belonging to 1 classes.\n",
      "50/50 [==============================] - 16s 323ms/step - loss: 0.6924 - accuracy: 0.8480\n",
      "\n",
      "Epoch 00001: loss improved from inf to 0.69236, saving model to unet_membrane_AllTrain_8.hdf5\n",
      "Epoch 2/10\n",
      "50/50 [==============================] - 11s 214ms/step - loss: 0.6907 - accuracy: 0.8392\n",
      "\n",
      "Epoch 00002: loss improved from 0.69236 to 0.69067, saving model to unet_membrane_AllTrain_8.hdf5\n",
      "Epoch 3/10\n",
      "50/50 [==============================] - 11s 216ms/step - loss: 0.6890 - accuracy: 0.8462\n",
      "\n",
      "Epoch 00003: loss improved from 0.69067 to 0.68897, saving model to unet_membrane_AllTrain_8.hdf5\n",
      "Epoch 4/10\n",
      "50/50 [==============================] - 11s 215ms/step - loss: 0.6872 - accuracy: 0.8515\n",
      "\n",
      "Epoch 00004: loss improved from 0.68897 to 0.68720, saving model to unet_membrane_AllTrain_8.hdf5\n",
      "Epoch 5/10\n",
      "50/50 [==============================] - 11s 215ms/step - loss: 0.6853 - accuracy: 0.8617\n",
      "\n",
      "Epoch 00005: loss improved from 0.68720 to 0.68525, saving model to unet_membrane_AllTrain_8.hdf5\n",
      "Epoch 6/10\n",
      "50/50 [==============================] - 11s 216ms/step - loss: 0.6839 - accuracy: 0.8445\n",
      "\n",
      "Epoch 00006: loss improved from 0.68525 to 0.68394, saving model to unet_membrane_AllTrain_8.hdf5\n",
      "Epoch 7/10\n",
      "50/50 [==============================] - 11s 216ms/step - loss: 0.6818 - accuracy: 0.8608\n",
      "\n",
      "Epoch 00007: loss improved from 0.68394 to 0.68178, saving model to unet_membrane_AllTrain_8.hdf5\n",
      "Epoch 8/10\n",
      "50/50 [==============================] - 11s 215ms/step - loss: 0.6798 - accuracy: 0.8652\n",
      "\n",
      "Epoch 00008: loss improved from 0.68178 to 0.67984, saving model to unet_membrane_AllTrain_8.hdf5\n",
      "Epoch 9/10\n",
      "50/50 [==============================] - 11s 217ms/step - loss: 0.6782 - accuracy: 0.8623\n",
      "\n",
      "Epoch 00009: loss improved from 0.67984 to 0.67818, saving model to unet_membrane_AllTrain_8.hdf5\n",
      "Epoch 10/10\n",
      "50/50 [==============================] - 11s 217ms/step - loss: 0.6769 - accuracy: 0.8517\n",
      "\n",
      "Epoch 00010: loss improved from 0.67818 to 0.67695, saving model to unet_membrane_AllTrain_8.hdf5\n"
     ]
    },
    {
     "data": {
      "text/plain": [
       "<keras.callbacks.callbacks.History at 0x7fea196366a0>"
      ]
     },
     "execution_count": 2,
     "metadata": {},
     "output_type": "execute_result"
    }
   ],
   "source": [
    "data_gen_args = dict(rotation_range=0.2,\n",
    "                    width_shift_range=0.05,\n",
    "                    height_shift_range=0.05,\n",
    "                    shear_range=0.05,\n",
    "                    zoom_range=0.05,\n",
    "                    horizontal_flip=True,\n",
    "                    fill_mode='nearest')\n",
    "myGene = trainGenerator(8,'/data/spacenet/bldg/AllTrain','PAN-PNG','GT-PNG',data_gen_args,save_to_dir = None)\n",
    "model = unet()\n",
    "model_checkpoint = ModelCheckpoint('unet_membrane_AllTrain_8.hdf5', monitor='loss',verbose=1, save_best_only=True)\n",
    "model.fit_generator(myGene,steps_per_epoch=50,epochs=10,callbacks=[model_checkpoint])"
   ]
  },
  {
   "cell_type": "markdown",
   "metadata": {},
   "source": [
    "### Train with npy file"
   ]
  },
  {
   "cell_type": "code",
   "execution_count": 3,
   "metadata": {},
   "outputs": [],
   "source": [
    "#imgs_train,imgs_mask_train = geneTrainNpy(\"data/membrane/train/aug/\",\"data/membrane/train/aug/\")\n",
    "#model.fit(imgs_train, imgs_mask_train, batch_size=2, nb_epoch=10, verbose=1,validation_split=0.2, shuffle=True, callbacks=[model_checkpoint])"
   ]
  },
  {
   "cell_type": "code",
   "execution_count": null,
   "metadata": {},
   "outputs": [],
   "source": [
    "##Use AllTest\n"
   ]
  },
  {
   "cell_type": "code",
   "execution_count": 3,
   "metadata": {},
   "outputs": [],
   "source": [
    "model = unet()\n",
    "model.load_weights(\"unet_membrane_AllTrain_8.hdf5\")"
   ]
  },
  {
   "cell_type": "code",
   "execution_count": null,
   "metadata": {},
   "outputs": [],
   "source": [
    "#results = model.predict_generator(testGene,30,verbose=1)\n",
    "#saveResult(\"data/membrane/test2\",results)"
   ]
  },
  {
   "cell_type": "markdown",
   "metadata": {},
   "source": [
    "### test your model and save predicted results"
   ]
  },
  {
   "cell_type": "code",
   "execution_count": 2,
   "metadata": {},
   "outputs": [],
   "source": [
    "from PIL import Image\n",
    "import numpy as np\n",
    "from skimage import transform"
   ]
  },
  {
   "cell_type": "code",
   "execution_count": 36,
   "metadata": {},
   "outputs": [],
   "source": [
    "#testGene = testGenerator(\"/data/spacenet/bldg/AOI_2_Vegas_Test_public/PAN-PNG\")\n",
    "model = unet()\n",
    "model.load_weights(\"unet_membrane.hdf5\")\n",
    "np_image = Image.open('/data/spacenet/bldg/AOI_2_Vegas_Test_public/PAN-PNG/PAN_AOI_2_Vegas_img1005.png')\n",
    "np_image = np.array(np_image).astype('float32')/255\n",
    "np_image = transform.resize(np_image, (256, 256, 1))\n",
    "np_image = np.expand_dims(np_image, axis=0)\n",
    "\n",
    "\n",
    "#model.predict(\"/data/spacenet/bldg/AOI_2_Vegas_Test_public/PAN-PNG/PAN_AOI_2_Vegas_img1005.png\")\n",
    "#results = model.predict_generator(testGene,30,verbose=1)\n",
    "#saveResult(\"data/membrane/test2\",results)"
   ]
  },
  {
   "cell_type": "code",
   "execution_count": 37,
   "metadata": {},
   "outputs": [],
   "source": [
    "im = model.predict(np_image)\n",
    "#saveResult(\"data/membrane/test2\",im)"
   ]
  },
  {
   "cell_type": "code",
   "execution_count": 38,
   "metadata": {},
   "outputs": [
    {
     "name": "stderr",
     "output_type": "stream",
     "text": [
      "Lossy conversion from float32 to uint8. Range [0, 1]. Convert image to uint8 prior to saving to suppress this warning.\n",
      "Lossy conversion from float32 to uint8. Range [0, 1]. Convert image to uint8 prior to saving to suppress this warning.\n"
     ]
    }
   ],
   "source": [
    "np_image1 = Image.open('/data/spacenet/bldg/AOI_2_Vegas_Test_public/PAN-PNG/PAN_AOI_2_Vegas_img1008.png')\n",
    "np_image1 = np.array(np_image1).astype('float32')/255\n",
    "np_image1 = transform.resize(np_image1, (256, 256, 1))\n",
    "np_image1 = np.expand_dims(np_image1, axis=0)\n",
    "\n",
    "im1 = model.predict(np_image1)\n",
    "\n",
    "np_image2 = Image.open('/data/spacenet/bldg/AOI_2_Vegas_Test_public/PAN-PNG/PAN_AOI_2_Vegas_img100.png')\n",
    "np_image2 = np.array(np_image2).astype('float32')/255\n",
    "np_image2 = transform.resize(np_image2, (256, 256, 1))\n",
    "np_image2 = np.expand_dims(np_image2, axis=0)\n",
    "\n",
    "im2 = model.predict(np_image2)\n",
    "saveResult(\"data/membrane/test2\",im2)\n",
    "\n",
    "np_image3 = Image.open('/data/spacenet/bldg/AOI_2_Vegas_Test_public/PAN-PNG/PAN_AOI_2_Vegas_img1012.png')\n",
    "np_image3 = np.array(np_image3).astype('float32')/255\n",
    "np_image3 = transform.resize(np_image3, (256, 256, 1))\n",
    "np_image3 = np.expand_dims(np_image3, axis=0)\n",
    "\n",
    "im3 = model.predict(np_image3)\n",
    "\n",
    "\n",
    "np_image4 = Image.open('/data/spacenet/bldg/AOI_2_Vegas_Test_public/PAN-PNG/PAN_AOI_2_Vegas_img1013.png')\n",
    "np_image4 = np.array(np_image4).astype('float32')/255\n",
    "np_image4 = transform.resize(np_image4, (256, 256, 1))\n",
    "np_image4 = np.expand_dims(np_image4, axis=0)\n",
    "\n",
    "im4 = model.predict(np_image4)\n",
    "\n",
    "im_list = [im, im1, im2, im3, im4]\n",
    "saveResult(\"data/membrane/test2\",im1)"
   ]
  },
  {
   "cell_type": "code",
   "execution_count": 42,
   "metadata": {},
   "outputs": [
    {
     "name": "stderr",
     "output_type": "stream",
     "text": [
      "Lossy conversion from float32 to uint8. Range [0, 1]. Convert image to uint8 prior to saving to suppress this warning.\n"
     ]
    }
   ],
   "source": [
    "saveResult(\"data/membrane/test2\",im4)"
   ]
  },
  {
   "cell_type": "markdown",
   "metadata": {},
   "source": [
    "## Thresholding Results"
   ]
  },
  {
   "cell_type": "code",
   "execution_count": 3,
   "metadata": {},
   "outputs": [
    {
     "name": "stdout",
     "output_type": "stream",
     "text": [
      "WARNING:tensorflow:From /srv/conda/envs/notebook/lib/python3.7/site-packages/keras/backend/tensorflow_backend.py:4070: The name tf.nn.max_pool is deprecated. Please use tf.nn.max_pool2d instead.\n",
      "\n",
      "WARNING:tensorflow:From /srv/conda/envs/notebook/lib/python3.7/site-packages/tensorflow/python/ops/nn_impl.py:180: add_dispatch_support.<locals>.wrapper (from tensorflow.python.ops.array_ops) is deprecated and will be removed in a future version.\n",
      "Instructions for updating:\n",
      "Use tf.where in 2.0, which has the same broadcast rule as np.where\n"
     ]
    },
    {
     "name": "stderr",
     "output_type": "stream",
     "text": [
      "/home/dspuser/unet/model.py:56: UserWarning: Update your `Model` call to the Keras 2 API: `Model(inputs=Tensor(\"in..., outputs=Tensor(\"co...)`\n",
      "  model = Model(input = inputs, output = conv10)\n"
     ]
    }
   ],
   "source": [
    "model = unet()\n",
    "model.load_weights(\"Humphries_Bragg_Weights.hdf5\")\n",
    "#model.load_weights('unet_membrane_AllTrain_8.hdf5')"
   ]
  },
  {
   "cell_type": "code",
   "execution_count": 4,
   "metadata": {},
   "outputs": [],
   "source": [
    "def predImgGen(imgPath, target_size=(256,256)):\n",
    "    img = io.imread(imgPath,as_gray = True)\n",
    "    img = img / 255\n",
    "    img = trans.resize(img,target_size)\n",
    "    img = np.reshape(img,img.shape+(1,))\n",
    "    img = np.reshape(img,(1,)+img.shape)\n",
    "    return img"
   ]
  },
  {
   "cell_type": "code",
   "execution_count": 5,
   "metadata": {},
   "outputs": [],
   "source": [
    "def predImgGen2(imgPath, target_size=(256,256)):\n",
    "    img = io.imread(imgPath,as_gray = True)\n",
    "    #img = img / 255\n",
    "    img = trans.resize(img,target_size)\n",
    "    img = np.reshape(img,img.shape+(1,))\n",
    "    img = np.reshape(img,(1,)+img.shape)\n",
    "    return img"
   ]
  },
  {
   "cell_type": "code",
   "execution_count": 6,
   "metadata": {},
   "outputs": [
    {
     "name": "stdout",
     "output_type": "stream",
     "text": [
      "WARNING:tensorflow:From /srv/conda/envs/notebook/lib/python3.7/site-packages/keras/backend/tensorflow_backend.py:422: The name tf.global_variables is deprecated. Please use tf.compat.v1.global_variables instead.\n",
      "\n"
     ]
    }
   ],
   "source": [
    "maskImg_List = []\n",
    "test_dir = '/data/spacenet/bldg/AllTest/PAN-PNG'\n",
    "for i,j,k in os.walk(test_dir):\n",
    "    for file in k:\n",
    "        if (os.path.splitext(file)[1] == '.png'):\n",
    "            PANImgPath = os.path.join(test_dir, file)\n",
    "            testImg = predImgGen(PANImgPath)\n",
    "            pred = model.predict(testImg)\n",
    "        \n",
    "            predRe = pred.reshape(256,256)\n",
    "            maskArrThresh = np.zeros((predRe.shape[0], predRe.shape[1], 4)) \n",
    "            maskArrThresh[:,:, 0] = 50\n",
    "            maskArrThresh[:,:, 1] = 255\n",
    "            maskArrThresh[:,:, 2] = 0\n",
    "            for row in range(0, predRe.shape[0]):\n",
    "                for col in range(0, predRe.shape[1]):\n",
    "                    maskArrThresh[row, col, 3] = 255 - int(predRe[row, col] * 255)\n",
    "            maskArrThresh = maskArrThresh.astype(\"uint8\")\n",
    "            maskImg = Image.fromarray(maskArrThresh, 'RGBA')\n",
    "            maskImg_List += [maskImg]\n",
    "        \n",
    "            PANImg = Image.open(PANImgPath)\n",
    "            PANImgT = PANImg.convert('RGBA')\n",
    "        \n",
    "            PANDim = (PANImgT.width, PANImgT.height)\n",
    "            maskImgRe = maskImg.resize(PANDim) \n",
    "        \n",
    "            comp = Image.alpha_composite(PANImgT, maskImgRe)\n",
    "            comp.save(file)"
   ]
  },
  {
   "cell_type": "code",
   "execution_count": 7,
   "metadata": {},
   "outputs": [
    {
     "data": {
      "image/png": "[encoded data removed]",
      "text/plain": [
       "<PIL.Image.Image image mode=RGBA size=256x256 at 0x7F1A7096C6D8>"
      ]
     },
     "execution_count": 7,
     "metadata": {},
     "output_type": "execute_result"
    }
   ],
   "source": [
    "maskImg_List[3]"
   ]
  },
  {
   "cell_type": "code",
   "execution_count": 9,
   "metadata": {},
   "outputs": [
    {
     "name": "stderr",
     "output_type": "stream",
     "text": [
      "Lossy conversion from float32 to uint8. Range [0, 1]. Convert image to uint8 prior to saving to suppress this warning.\n"
     ]
    }
   ],
   "source": [
    "np_image1 = np.array(maskImg_List[2]).astype('float32')/255\n",
    "np_image1 = transform.resize(np_image1, (256, 256, 1))\n",
    "np_image1 = np.expand_dims(np_image1, axis=0)\n",
    "\n",
    "saveResult(\"data\",np_image1)"
   ]
  },
  {
   "cell_type": "code",
   "execution_count": 8,
   "metadata": {},
   "outputs": [],
   "source": [
    "np_image1 = np.array(maskImg_List[3]).astype('float32')/255\n",
    "np_image1 = transform.resize(np_image1, (256, 256, 1))\n",
    "np_image1 = np.expand_dims(np_image1, axis=0)"
   ]
  },
  {
   "cell_type": "code",
   "execution_count": 9,
   "metadata": {},
   "outputs": [
    {
     "name": "stderr",
     "output_type": "stream",
     "text": [
      "Lossy conversion from float32 to uint8. Range [-12.235958099365234, -7.9792351722717285]. Convert image to uint8 prior to saving to suppress this warning.\n"
     ]
    }
   ],
   "source": [
    "#maskImg\n",
    "#image = cv2.imread('/data/spacenet/bldg/AllTrain/PAN-PNG/PAN_AOI_2_Vegas_img1002.png')\n",
    "\n",
    "#image = cv2.imread(im1)\n",
    "invert = cv2.bitwise_not(np_image1)\n",
    "saveResult(\"data\",invert)\n"
   ]
  }
 ],
 "metadata": {
  "kernelspec": {
   "display_name": "Python 3",
   "language": "python",
   "name": "python3"
  },
  "language_info": {
   "codemirror_mode": {
    "name": "ipython",
    "version": 3
   },
   "file_extension": ".py",
   "mimetype": "text/x-python",
   "name": "python",
   "nbconvert_exporter": "python",
   "pygments_lexer": "ipython3",
   "version": "3.7.3"
  }
 },
 "nbformat": 4,
 "nbformat_minor": 4
}
