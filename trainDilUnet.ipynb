{
 "cells": [
  {
   "cell_type": "code",
   "execution_count": 1,
   "metadata": {},
   "outputs": [
    {
     "name": "stderr",
     "output_type": "stream",
     "text": [
      "Using TensorFlow backend.\n",
      "/srv/conda/envs/notebook/lib/python3.7/site-packages/tensorflow/python/framework/dtypes.py:516: FutureWarning: Passing (type, 1) or '1type' as a synonym of type is deprecated; in a future version of numpy, it will be understood as (type, (1,)) / '(1,)type'.\n",
      "  _np_qint8 = np.dtype([(\"qint8\", np.int8, 1)])\n",
      "/srv/conda/envs/notebook/lib/python3.7/site-packages/tensorflow/python/framework/dtypes.py:517: FutureWarning: Passing (type, 1) or '1type' as a synonym of type is deprecated; in a future version of numpy, it will be understood as (type, (1,)) / '(1,)type'.\n",
      "  _np_quint8 = np.dtype([(\"quint8\", np.uint8, 1)])\n",
      "/srv/conda/envs/notebook/lib/python3.7/site-packages/tensorflow/python/framework/dtypes.py:518: FutureWarning: Passing (type, 1) or '1type' as a synonym of type is deprecated; in a future version of numpy, it will be understood as (type, (1,)) / '(1,)type'.\n",
      "  _np_qint16 = np.dtype([(\"qint16\", np.int16, 1)])\n",
      "/srv/conda/envs/notebook/lib/python3.7/site-packages/tensorflow/python/framework/dtypes.py:519: FutureWarning: Passing (type, 1) or '1type' as a synonym of type is deprecated; in a future version of numpy, it will be understood as (type, (1,)) / '(1,)type'.\n",
      "  _np_quint16 = np.dtype([(\"quint16\", np.uint16, 1)])\n",
      "/srv/conda/envs/notebook/lib/python3.7/site-packages/tensorflow/python/framework/dtypes.py:520: FutureWarning: Passing (type, 1) or '1type' as a synonym of type is deprecated; in a future version of numpy, it will be understood as (type, (1,)) / '(1,)type'.\n",
      "  _np_qint32 = np.dtype([(\"qint32\", np.int32, 1)])\n",
      "/srv/conda/envs/notebook/lib/python3.7/site-packages/tensorflow/python/framework/dtypes.py:525: FutureWarning: Passing (type, 1) or '1type' as a synonym of type is deprecated; in a future version of numpy, it will be understood as (type, (1,)) / '(1,)type'.\n",
      "  np_resource = np.dtype([(\"resource\", np.ubyte, 1)])\n",
      "/srv/conda/envs/notebook/lib/python3.7/site-packages/tensorboard/compat/tensorflow_stub/dtypes.py:541: FutureWarning: Passing (type, 1) or '1type' as a synonym of type is deprecated; in a future version of numpy, it will be understood as (type, (1,)) / '(1,)type'.\n",
      "  _np_qint8 = np.dtype([(\"qint8\", np.int8, 1)])\n",
      "/srv/conda/envs/notebook/lib/python3.7/site-packages/tensorboard/compat/tensorflow_stub/dtypes.py:542: FutureWarning: Passing (type, 1) or '1type' as a synonym of type is deprecated; in a future version of numpy, it will be understood as (type, (1,)) / '(1,)type'.\n",
      "  _np_quint8 = np.dtype([(\"quint8\", np.uint8, 1)])\n",
      "/srv/conda/envs/notebook/lib/python3.7/site-packages/tensorboard/compat/tensorflow_stub/dtypes.py:543: FutureWarning: Passing (type, 1) or '1type' as a synonym of type is deprecated; in a future version of numpy, it will be understood as (type, (1,)) / '(1,)type'.\n",
      "  _np_qint16 = np.dtype([(\"qint16\", np.int16, 1)])\n",
      "/srv/conda/envs/notebook/lib/python3.7/site-packages/tensorboard/compat/tensorflow_stub/dtypes.py:544: FutureWarning: Passing (type, 1) or '1type' as a synonym of type is deprecated; in a future version of numpy, it will be understood as (type, (1,)) / '(1,)type'.\n",
      "  _np_quint16 = np.dtype([(\"quint16\", np.uint16, 1)])\n",
      "/srv/conda/envs/notebook/lib/python3.7/site-packages/tensorboard/compat/tensorflow_stub/dtypes.py:545: FutureWarning: Passing (type, 1) or '1type' as a synonym of type is deprecated; in a future version of numpy, it will be understood as (type, (1,)) / '(1,)type'.\n",
      "  _np_qint32 = np.dtype([(\"qint32\", np.int32, 1)])\n",
      "/srv/conda/envs/notebook/lib/python3.7/site-packages/tensorboard/compat/tensorflow_stub/dtypes.py:550: FutureWarning: Passing (type, 1) or '1type' as a synonym of type is deprecated; in a future version of numpy, it will be understood as (type, (1,)) / '(1,)type'.\n",
      "  np_resource = np.dtype([(\"resource\", np.ubyte, 1)])\n"
     ]
    }
   ],
   "source": [
    "from model import *\n",
    "from dilateModel import *\n",
    "from data import *\n",
    "from PIL import Image"
   ]
  },
  {
   "cell_type": "code",
   "execution_count": 3,
   "metadata": {},
   "outputs": [
    {
     "name": "stdout",
     "output_type": "stream",
     "text": [
      "Epoch 1/5\n",
      "Found 10586 images belonging to 1 classes.\n",
      "Found 10586 images belonging to 1 classes.\n",
      "2000/2000 [==============================] - 1107s 553ms/step - loss: 0.1124 - accuracy: 0.9585\n",
      "\n",
      "Epoch 00001: loss improved from inf to 0.11240, saving model to End_Year_Dil_1.hdf5\n",
      "Epoch 2/5\n",
      "2000/2000 [==============================] - 1104s 552ms/step - loss: 0.1054 - accuracy: 0.9607\n",
      "\n",
      "Epoch 00002: loss improved from 0.11240 to 0.10537, saving model to End_Year_Dil_1.hdf5\n",
      "Epoch 3/5\n",
      "2000/2000 [==============================] - 1106s 553ms/step - loss: 0.1045 - accuracy: 0.9605\n",
      "\n",
      "Epoch 00003: loss improved from 0.10537 to 0.10448, saving model to End_Year_Dil_1.hdf5\n",
      "Epoch 4/5\n",
      "2000/2000 [==============================] - 1104s 552ms/step - loss: 0.0987 - accuracy: 0.9625\n",
      "\n",
      "Epoch 00004: loss improved from 0.10448 to 0.09867, saving model to End_Year_Dil_1.hdf5\n",
      "Epoch 5/5\n",
      "2000/2000 [==============================] - 1108s 554ms/step - loss: 0.0926 - accuracy: 0.9646\n",
      "\n",
      "Epoch 00005: loss improved from 0.09867 to 0.09263, saving model to End_Year_Dil_1.hdf5\n"
     ]
    },
    {
     "data": {
      "text/plain": [
       "<keras.callbacks.callbacks.History at 0x7fbd2d4cc198>"
      ]
     },
     "execution_count": 3,
     "metadata": {},
     "output_type": "execute_result"
    }
   ],
   "source": [
    "data_gen_args = dict(rotation_range=0.2,\n",
    "                    width_shift_range=0.05,\n",
    "                    height_shift_range=0.05,\n",
    "                    shear_range=0.05,\n",
    "                    zoom_range=0.05,\n",
    "                    horizontal_flip=True,\n",
    "                    fill_mode='nearest')\n",
    "myGene = trainGenerator(16,'/data/spacenet/bldg/AllTrain','PAN-PNG','GT-PNG',data_gen_args,save_to_dir = None)\n",
    "model = unetDil('Humphries_Bragg_Weights.hdf5')\n",
    "model_checkpoint = ModelCheckpoint('End_Year_Dil_1.hdf5', monitor='loss',verbose=1, save_best_only=True)\n",
    "model.fit_generator(myGene,steps_per_epoch=2000,epochs=5,callbacks=[model_checkpoint])"
   ]
  },
  {
   "cell_type": "code",
   "execution_count": null,
   "metadata": {},
   "outputs": [],
   "source": [
    "model = unetDil()\n",
    "model.load_weights(\"unet_membrane_AllTrain_Dil_1.hdf5\")"
   ]
  },
  {
   "cell_type": "code",
   "execution_count": null,
   "metadata": {},
   "outputs": [],
   "source": [
    "def predImgGen(imgPath, target_size=(256,256)):\n",
    "    img = io.imread(imgPath,as_gray = True)\n",
    "    img = img / 255\n",
    "    img = trans.resize(img,target_size)\n",
    "    img = np.reshape(img,img.shape+(1,))\n",
    "    img = np.reshape(img,(1,)+img.shape)\n",
    "    return img"
   ]
  },
  {
   "cell_type": "code",
   "execution_count": null,
   "metadata": {},
   "outputs": [],
   "source": [
    "def predImgGen2(imgPath, target_size=(256,256)):\n",
    "    img = io.imread(imgPath,as_gray = True)\n",
    "    #img = img / 255\n",
    "    img = trans.resize(img,target_size)\n",
    "    img = np.reshape(img,img.shape+(1,))\n",
    "    img = np.reshape(img,(1,)+img.shape)\n",
    "    return img"
   ]
  },
  {
   "cell_type": "code",
   "execution_count": null,
   "metadata": {},
   "outputs": [],
   "source": [
    "test_dir = '/data/spacenet/bldg/AllTest/PAN-PNG'\n",
    "for i,j,k in os.walk(test_dir):\n",
    "    for file in k:\n",
    "        if (os.path.splitext(file)[1] == '.png'):\n",
    "            PANImgPath = os.path.join(test_dir, file)\n",
    "            testImg = predImgGen(PANImgPath)\n",
    "            pred = model.predict(testImg)\n",
    "        \n",
    "            predRe = pred.reshape(256,256)\n",
    "            maskArrThresh = np.zeros((predRe.shape[0], predRe.shape[1], 4)) \n",
    "            maskArrThresh[:,:, 0] = 50\n",
    "            maskArrThresh[:,:, 1] = 255\n",
    "            maskArrThresh[:,:, 2] = 0\n",
    "            for row in range(0, predRe.shape[0]):\n",
    "                for col in range(0, predRe.shape[1]):\n",
    "                    maskArrThresh[row, col, 3] = 255 - int(predRe[row, col] * 255)\n",
    "            maskArrThresh = maskArrThresh.astype(\"uint8\")\n",
    "            maskImg = Image.fromarray(maskArrThresh, 'RGBA')\n",
    "        \n",
    "            PANImg = Image.open(PANImgPath)\n",
    "            PANImgT = PANImg.convert('RGBA')\n",
    "        \n",
    "            PANDim = (PANImgT.width, PANImgT.height)\n",
    "            maskImgRe = maskImg.resize(PANDim) \n",
    "        \n",
    "            comp = Image.alpha_composite(PANImgT, maskImgRe)\n",
    "            comp.save(file)"
   ]
  }
 ],
 "metadata": {
  "kernelspec": {
   "display_name": "Python 3",
   "language": "python",
   "name": "python3"
  },
  "language_info": {
   "codemirror_mode": {
    "name": "ipython",
    "version": 3
   },
   "file_extension": ".py",
   "mimetype": "text/x-python",
   "name": "python",
   "nbconvert_exporter": "python",
   "pygments_lexer": "ipython3",
   "version": "3.7.3"
  }
 },
 "nbformat": 4,
 "nbformat_minor": 4
}
